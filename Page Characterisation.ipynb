{
 "cells": [
  {
   "cell_type": "code",
   "execution_count": 15,
   "id": "c769ed91-ad3d-4a71-9ba9-d1a5000ce477",
   "metadata": {},
   "outputs": [],
   "source": [
    "from sklearn.metrics import accuracy_score\n",
    "import networkx as nx\n",
    "import json"
   ]
  },
  {
   "cell_type": "code",
   "execution_count": 16,
   "id": "cba5c550",
   "metadata": {},
   "outputs": [],
   "source": [
    "import umap\n",
    "import seaborn as sns\n",
    "import matplotlib.pyplot as plt\n",
    "import matplotlib as mpl"
   ]
  },
  {
   "cell_type": "code",
   "execution_count": 4,
   "id": "1e140faa",
   "metadata": {},
   "outputs": [],
   "source": [
    "import pandas as pd\n",
    "import numpy as np\n",
    "from tqdm import tqdm\n",
    "import random\n",
    "from scipy.linalg import sqrtm"
   ]
  },
  {
   "cell_type": "code",
   "execution_count": 18,
   "id": "184d7a2a",
   "metadata": {},
   "outputs": [],
   "source": [
    "from sklearn.model_selection import train_test_split\n",
    "from sklearn.ensemble import RandomForestClassifier\n",
    "from sklearn.metrics import roc_auc_score, f1_score, confusion_matrix, precision_recall_fscore_support"
   ]
  },
  {
   "cell_type": "code",
   "execution_count": null,
   "id": "6ff1b718",
   "metadata": {},
   "outputs": [],
   "source": [
    "from karateclub.utils.walker import RandomWalker, BiasedRandomWalker\n",
    "from karateclub import DeepWalk, Node2Vec\n",
    "from gensim.models.word2vec import Word2Vec"
   ]
  },
  {
   "cell_type": "code",
   "execution_count": null,
   "id": "6007fd77",
   "metadata": {},
   "outputs": [],
   "source": [
    "# setting default settings for matplotlib functions within this notebook\n",
    "%matplotlib inline\n",
    "mpl.rcParams['figure.figsize'] = 18, 7 # setting default settings for figures\n",
    "pd.set_option('display.float_format', lambda x: '%.5f' % x) #setting default settings for displaying float"
   ]
  },
  {
   "cell_type": "code",
   "execution_count": null,
   "id": "15bffd68",
   "metadata": {},
   "outputs": [],
   "source": [
    "edges = pd.read_csv('musae_facebook_edges.csv')\n",
    "targets = pd.read_csv('musae_facebook_target.csv')\n",
    "targets.index = targets.id\n",
    "with open('musae_facebook_features.json') as json_data:\n",
    "    features = json.load(json_data)"
   ]
  },
  {
   "cell_type": "code",
   "execution_count": null,
   "id": "c154ebe2",
   "metadata": {},
   "outputs": [],
   "source": [
    "max_feature = np.max([v for v_list in features.values() for v in v_list])\n",
    "features_matrix = np.zeros(shape = (len(list(features.keys())), max_feature+1))"
   ]
  },
  {
   "cell_type": "code",
   "execution_count": null,
   "id": "6539022e",
   "metadata": {},
   "outputs": [],
   "source": [
    "i = 0\n",
    "for k, vs in tqdm(features.items()):\n",
    "    for v in vs:\n",
    "        features_matrix[i, v] = 1\n",
    "    i+=1"
   ]
  },
  {
   "cell_type": "code",
   "execution_count": null,
   "id": "cee93254",
   "metadata": {},
   "outputs": [],
   "source": [
    "i = 0\n",
    "for k, vs in tqdm(features.items()):\n",
    "    for v in vs:\n",
    "        features_matrix[i, v] = 1\n",
    "    i+=1"
   ]
  },
  {
   "cell_type": "code",
   "execution_count": null,
   "id": "d6241c06",
   "metadata": {},
   "outputs": [],
   "source": [
    "# Get targets\n",
    "y = targets.loc[[int(i) for i in list(features.keys())], 'page_type']"
   ]
  },
  {
   "cell_type": "code",
   "execution_count": null,
   "id": "7d20e9ee",
   "metadata": {},
   "outputs": [],
   "source": [
    "\n",
    "# Get corresponding embeddings\n",
    "X_dw = []\n",
    "for i in y.index:\n",
    "   X_dw.append(model.wv.__getitem__(str(i)))"
   ]
  },
  {
   "cell_type": "code",
   "execution_count": null,
   "id": "7bc97951",
   "metadata": {},
   "outputs": [],
   "source": [
    "X_dw_encoded = pd.get_dummies(pd.DataFrame(X_dw))\n",
    "X_train, X_test, y_train, y_test = train_test_split(X_dw_encoded, y, test_size=0.2) # train/test split"
   ]
  },
  {
   "cell_type": "code",
   "execution_count": null,
   "id": "cf376973",
   "metadata": {},
   "outputs": [],
   "source": [
    "rf = RandomForestClassifier()\n",
    "rf.fit(X_train, y_train)\n",
    "y_pred = rf.predict(X_test)"
   ]
  },
  {
   "cell_type": "code",
   "execution_count": null,
   "id": "1258eb70",
   "metadata": {},
   "outputs": [],
   "source": [
    "# Calculate and print the confusion matrix\n",
    "cm = confusion_matrix(y_test, y_pred, normalize='true')\n",
    "print(\"Confusion Matrix:\")\n",
    "print(cm)"
   ]
  },
  {
   "cell_type": "code",
   "execution_count": null,
   "id": "38803a92",
   "metadata": {},
   "outputs": [],
   "source": [
    "# Calculate and print the testing accuracy\n",
    "accuracy = accuracy_score(y_test, y_pred)\n",
    "print(f\"Testing Accuracy: {accuracy}\")"
   ]
  },
  {
   "cell_type": "code",
   "execution_count": null,
   "id": "90ecbf5d",
   "metadata": {},
   "outputs": [],
   "source": [
    "precision, recall, f1_score, support = precision_recall_fscore_support(y_test, y_pred)\n",
    "print(f'Precision: {precision}')\n",
    "print(f'Recall: {recall}')\n",
    "print(f'F1 Score: {f1_score}')\n",
    "print(f'Support: {support}')"
   ]
  },
  {
   "cell_type": "markdown",
   "id": "34b6b131",
   "metadata": {},
   "source": []
  }
 ],
 "metadata": {
  "kernelspec": {
   "display_name": "Python 3 (ipykernel)",
   "language": "python",
   "name": "python3"
  },
  "language_info": {
   "codemirror_mode": {
    "name": "ipython",
    "version": 3
   },
   "file_extension": ".py",
   "mimetype": "text/x-python",
   "name": "python",
   "nbconvert_exporter": "python",
   "pygments_lexer": "ipython3",
   "version": "3.12.2"
  }
 },
 "nbformat": 4,
 "nbformat_minor": 5
}

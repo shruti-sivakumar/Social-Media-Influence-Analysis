{
 "cells": [
  {
   "cell_type": "code",
   "execution_count": 1,
   "id": "36f63530-4fa0-458f-9718-ba94069fcea0",
   "metadata": {},
   "outputs": [],
   "source": [
    "import pandas as pd\n",
    "import networkx as nx\n",
    "import matplotlib.pyplot as plt"
   ]
  },
  {
   "cell_type": "code",
   "execution_count": 2,
   "id": "5abfd4fe",
   "metadata": {},
   "outputs": [],
   "source": [
    "file_path = (\"/Users/shrutisivakumar/Library/CloudStorage/OneDrive-Personal/College Stuff/Sem 1/Projects/Discrete Mathematics/facebook_clean_data/company_edges.csv\")\n",
    "df = pd.read_csv(file_path)"
   ]
  },
  {
   "cell_type": "code",
   "execution_count": 3,
   "id": "f8f2ed57",
   "metadata": {},
   "outputs": [],
   "source": [
    "G = nx.from_pandas_edgelist(df, 'node_1', 'node_2')"
   ]
  },
  {
   "cell_type": "code",
   "execution_count": 4,
   "id": "a25e0fef",
   "metadata": {},
   "outputs": [
    {
     "name": "stdout",
     "output_type": "stream",
     "text": [
      "Number of nodes: 14113\n",
      "Number of edges: 52310\n"
     ]
    }
   ],
   "source": [
    "num_nodes = G.number_of_nodes()\n",
    "num_edges = G.number_of_edges()\n",
    "print(f\"Number of nodes: {num_nodes}\")\n",
    "print(f\"Number of edges: {num_edges}\")"
   ]
  },
  {
   "cell_type": "code",
   "execution_count": 5,
   "id": "c57a692d",
   "metadata": {},
   "outputs": [
    {
     "name": "stdout",
     "output_type": "stream",
     "text": [
      "Average degree: 7.413023453553461\n"
     ]
    }
   ],
   "source": [
    "degree_sequence = [d for n, d in G.degree()]\n",
    "print(\"Average degree:\", sum(degree_sequence) / len(degree_sequence))"
   ]
  },
  {
   "cell_type": "code",
   "execution_count": 6,
   "id": "3539441d",
   "metadata": {},
   "outputs": [
    {
     "name": "stdout",
     "output_type": "stream",
     "text": [
      "Clustering coefficient: 0.23924183803998195\n"
     ]
    }
   ],
   "source": [
    "clustering_coefficient = nx.average_clustering(G)\n",
    "print(f\"Clustering coefficient: {clustering_coefficient}\")"
   ]
  }
 ],
 "metadata": {
  "kernelspec": {
   "display_name": "Python 3 (ipykernel)",
   "language": "python",
   "name": "python3"
  }
 },
 "nbformat": 4,
 "nbformat_minor": 5
}
